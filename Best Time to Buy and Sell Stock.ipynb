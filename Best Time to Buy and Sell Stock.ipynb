#121. Best Time to Buy and Sell Stock

class Solution:
    def maxProfit(self, prices: List[int]) -> int:
        
        if not prices:
            return 0
        
        
        
        maxprofit = 0
        minprice = prices[0]
        
        for i in range(1,len(prices)):
            
            
            
            maxprofit = max(maxprofit,prices[i]-minprice)
            minprice = min(minprice,prices[i])
        
        return maxprofit